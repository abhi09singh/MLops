{
 "cells": [
  {
   "cell_type": "code",
   "execution_count": null,
   "id": "4090d91d",
   "metadata": {},
   "outputs": [],
   "source": [
    "#🔅 Task 4.3\n",
    "#📌 Take 2 image and combine it to form single image. For example collage "
   ]
  },
  {
   "cell_type": "code",
   "execution_count": 2,
   "id": "3fa063fb",
   "metadata": {},
   "outputs": [],
   "source": [
    "import cv2\n",
    "import numpy"
   ]
  },
  {
   "cell_type": "code",
   "execution_count": 3,
   "id": "00d77ee9",
   "metadata": {},
   "outputs": [],
   "source": [
    "pic1=cv2.imread('P11.jpg')"
   ]
  },
  {
   "cell_type": "code",
   "execution_count": 4,
   "id": "c92b5248",
   "metadata": {},
   "outputs": [],
   "source": [
    "pic2=cv2.imread('P22.jpg')"
   ]
  },
  {
   "cell_type": "code",
   "execution_count": 7,
   "id": "80b8c3dd",
   "metadata": {},
   "outputs": [
    {
     "data": {
      "text/plain": [
       "(536, 785, 3)"
      ]
     },
     "execution_count": 7,
     "metadata": {},
     "output_type": "execute_result"
    }
   ],
   "source": [
    "pic1.shape"
   ]
  },
  {
   "cell_type": "code",
   "execution_count": 8,
   "id": "d3d5a766",
   "metadata": {},
   "outputs": [
    {
     "data": {
      "text/plain": [
       "(480, 640, 3)"
      ]
     },
     "execution_count": 8,
     "metadata": {},
     "output_type": "execute_result"
    }
   ],
   "source": [
    "pic2.shape"
   ]
  },
  {
   "cell_type": "code",
   "execution_count": 10,
   "id": "0bae487d",
   "metadata": {},
   "outputs": [],
   "source": [
    "#Length should be same to append horizontally \n",
    "pic1=pic1[:480,:]"
   ]
  },
  {
   "cell_type": "code",
   "execution_count": 11,
   "id": "0cadf9ad",
   "metadata": {},
   "outputs": [
    {
     "data": {
      "text/plain": [
       "(480, 785, 3)"
      ]
     },
     "execution_count": 11,
     "metadata": {},
     "output_type": "execute_result"
    }
   ],
   "source": [
    "pic1.shape"
   ]
  },
  {
   "cell_type": "code",
   "execution_count": 12,
   "id": "03a0db1d",
   "metadata": {},
   "outputs": [],
   "source": [
    "#To combine horizontally\n",
    "combine_pic_H=numpy.hstack((pic1,pic2))"
   ]
  },
  {
   "cell_type": "code",
   "execution_count": 1,
   "id": "ab78165f",
   "metadata": {},
   "outputs": [
    {
     "ename": "NameError",
     "evalue": "name 'cv2' is not defined",
     "output_type": "error",
     "traceback": [
      "\u001b[1;31m---------------------------------------------------------------------------\u001b[0m",
      "\u001b[1;31mNameError\u001b[0m                                 Traceback (most recent call last)",
      "\u001b[1;32m<ipython-input-1-f426d2daaf84>\u001b[0m in \u001b[0;36m<module>\u001b[1;34m\u001b[0m\n\u001b[0;32m      1\u001b[0m \u001b[1;31m#Display image\u001b[0m\u001b[1;33m\u001b[0m\u001b[1;33m\u001b[0m\u001b[1;33m\u001b[0m\u001b[0m\n\u001b[1;32m----> 2\u001b[1;33m \u001b[0mcv2\u001b[0m\u001b[1;33m.\u001b[0m\u001b[0mimshow\u001b[0m\u001b[1;33m(\u001b[0m\u001b[1;34m'image'\u001b[0m\u001b[1;33m,\u001b[0m\u001b[0mcombine_pic_H\u001b[0m\u001b[1;33m)\u001b[0m\u001b[1;33m\u001b[0m\u001b[1;33m\u001b[0m\u001b[0m\n\u001b[0m\u001b[0;32m      3\u001b[0m \u001b[0mcv2\u001b[0m\u001b[1;33m.\u001b[0m\u001b[0mwaitKey\u001b[0m\u001b[1;33m(\u001b[0m\u001b[1;33m)\u001b[0m\u001b[1;33m\u001b[0m\u001b[1;33m\u001b[0m\u001b[0m\n\u001b[0;32m      4\u001b[0m \u001b[0mcv2\u001b[0m\u001b[1;33m.\u001b[0m\u001b[0mdestroyAllWindows\u001b[0m\u001b[1;33m(\u001b[0m\u001b[1;33m)\u001b[0m\u001b[1;33m\u001b[0m\u001b[1;33m\u001b[0m\u001b[0m\n",
      "\u001b[1;31mNameError\u001b[0m: name 'cv2' is not defined"
     ]
    }
   ],
   "source": [
    "#Display image\n",
    "cv2.imshow('image',combine_pic_H)\n",
    "cv2.waitKey()\n",
    "cv2.destroyAllWindows()"
   ]
  },
  {
   "cell_type": "code",
   "execution_count": 15,
   "id": "e3739830",
   "metadata": {},
   "outputs": [],
   "source": [
    "#Width should be same to append vertically\n",
    "pic1=cv2.imread('P11.jpg')\n",
    "pic1=pic1[:,:640]"
   ]
  },
  {
   "cell_type": "code",
   "execution_count": 17,
   "id": "d2568dc7",
   "metadata": {},
   "outputs": [],
   "source": [
    "#To combine vertically\n",
    "combine_pic_V=numpy.vstack((pic1,pic2))"
   ]
  },
  {
   "cell_type": "code",
   "execution_count": null,
   "id": "5404ccd4",
   "metadata": {},
   "outputs": [],
   "source": [
    "#Display image\n",
    "cv2.imshow('image',combine_pic_V)\n",
    "cv2.waitKey()\n",
    "cv2.destroyAllWindows()"
   ]
  }
 ],
 "metadata": {
  "kernelspec": {
   "display_name": "Python 3",
   "language": "python",
   "name": "python3"
  },
  "language_info": {
   "codemirror_mode": {
    "name": "ipython",
    "version": 3
   },
   "file_extension": ".py",
   "mimetype": "text/x-python",
   "name": "python",
   "nbconvert_exporter": "python",
   "pygments_lexer": "ipython3",
   "version": "3.8.8"
  }
 },
 "nbformat": 4,
 "nbformat_minor": 5
}
