{
 "cells": [
  {
   "cell_type": "code",
   "execution_count": 41,
   "id": "4bce359c",
   "metadata": {},
   "outputs": [],
   "source": [
    "#🔅 Task 4.2\n",
    "#📌 Take 2 image crop some part of both image and swap it. "
   ]
  },
  {
   "cell_type": "code",
   "execution_count": 42,
   "id": "f5936d8f",
   "metadata": {},
   "outputs": [],
   "source": [
    "import cv2\n",
    "import numpy"
   ]
  },
  {
   "cell_type": "code",
   "execution_count": 43,
   "id": "b4530bc7",
   "metadata": {},
   "outputs": [],
   "source": [
    "pic1=cv2.imread('P11.jpg')"
   ]
  },
  {
   "cell_type": "code",
   "execution_count": 44,
   "id": "3a66e3db",
   "metadata": {},
   "outputs": [],
   "source": [
    "##Display image 1\n",
    "cv2.imshow('image',pic1)\n",
    "cv2.waitKey()\n",
    "cv2.destroyAllWindows()"
   ]
  },
  {
   "cell_type": "code",
   "execution_count": 45,
   "id": "5cdfb627",
   "metadata": {},
   "outputs": [
    {
     "data": {
      "text/plain": [
       "(536, 785, 3)"
      ]
     },
     "execution_count": 45,
     "metadata": {},
     "output_type": "execute_result"
    }
   ],
   "source": [
    "pic1.shape"
   ]
  },
  {
   "cell_type": "code",
   "execution_count": 46,
   "id": "cc534a6b",
   "metadata": {},
   "outputs": [],
   "source": [
    "pic2=cv2.imread('P22.jpg')"
   ]
  },
  {
   "cell_type": "code",
   "execution_count": 47,
   "id": "3b7cbed6",
   "metadata": {},
   "outputs": [],
   "source": [
    "##Display image 2\n",
    "cv2.imshow('image',pic2)\n",
    "cv2.waitKey()\n",
    "cv2.destroyAllWindows()"
   ]
  },
  {
   "cell_type": "code",
   "execution_count": 48,
   "id": "2ca9bcc9",
   "metadata": {},
   "outputs": [
    {
     "data": {
      "text/plain": [
       "(480, 640, 3)"
      ]
     },
     "execution_count": 48,
     "metadata": {},
     "output_type": "execute_result"
    }
   ],
   "source": [
    "pic2.shape"
   ]
  },
  {
   "cell_type": "code",
   "execution_count": 49,
   "id": "5a6873d9",
   "metadata": {},
   "outputs": [],
   "source": [
    "#Crop and Swap :1\n",
    "crop1=pic1[10:250,20:250]\n",
    "pic2[10:250,20:250]=crop1\n",
    "cv2.imshow('swap1',pic2)\n",
    "cv2.waitKey()\n",
    "cv2.destroyAllWindows()"
   ]
  },
  {
   "cell_type": "code",
   "execution_count": 50,
   "id": "8e4860d4",
   "metadata": {},
   "outputs": [],
   "source": [
    "#Crop and Swap :2\n",
    "pic2=cv2.imread('P22.jpg')\n",
    "crop2=pic2[20:350,20:350]\n",
    "pic1[20:350,20:350]=crop2\n",
    "cv2.imshow('swap2',pic1)\n",
    "cv2.waitKey()\n",
    "cv2.destroyAllWindows()"
   ]
  },
  {
   "cell_type": "code",
   "execution_count": null,
   "id": "b15089b1",
   "metadata": {},
   "outputs": [],
   "source": []
  }
 ],
 "metadata": {
  "kernelspec": {
   "display_name": "Python 3",
   "language": "python",
   "name": "python3"
  },
  "language_info": {
   "codemirror_mode": {
    "name": "ipython",
    "version": 3
   },
   "file_extension": ".py",
   "mimetype": "text/x-python",
   "name": "python",
   "nbconvert_exporter": "python",
   "pygments_lexer": "ipython3",
   "version": "3.8.8"
  }
 },
 "nbformat": 4,
 "nbformat_minor": 5
}
