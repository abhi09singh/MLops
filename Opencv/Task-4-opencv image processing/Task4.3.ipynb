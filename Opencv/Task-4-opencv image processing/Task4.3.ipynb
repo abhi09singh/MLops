{
 "cells": [
  {
   "cell_type": "code",
   "execution_count": 15,
   "id": "c0848fb2",
   "metadata": {},
   "outputs": [],
   "source": [
    "#🔅 Task 4.3\n",
    "#📌 Take 2 image and combine it to form single image. For example collage "
   ]
  },
  {
   "cell_type": "code",
   "execution_count": 16,
   "id": "3fa063fb",
   "metadata": {},
   "outputs": [],
   "source": [
    "import cv2\n",
    "import numpy"
   ]
  },
  {
   "cell_type": "code",
   "execution_count": 17,
   "id": "00d77ee9",
   "metadata": {},
   "outputs": [],
   "source": [
    "pic1=cv2.imread('P11.jpg')"
   ]
  },
  {
   "cell_type": "code",
   "execution_count": 18,
   "id": "c92b5248",
   "metadata": {},
   "outputs": [],
   "source": [
    "pic2=cv2.imread('P22.jpg')"
   ]
  },
  {
   "cell_type": "code",
   "execution_count": 19,
   "id": "80b8c3dd",
   "metadata": {},
   "outputs": [
    {
     "data": {
      "text/plain": [
       "(536, 785, 3)"
      ]
     },
     "execution_count": 19,
     "metadata": {},
     "output_type": "execute_result"
    }
   ],
   "source": [
    "pic1.shape"
   ]
  },
  {
   "cell_type": "code",
   "execution_count": 20,
   "id": "d3d5a766",
   "metadata": {},
   "outputs": [
    {
     "data": {
      "text/plain": [
       "(480, 640, 3)"
      ]
     },
     "execution_count": 20,
     "metadata": {},
     "output_type": "execute_result"
    }
   ],
   "source": [
    "pic2.shape"
   ]
  },
  {
   "cell_type": "code",
   "execution_count": 21,
   "id": "0bae487d",
   "metadata": {},
   "outputs": [],
   "source": [
    "#Length should be same to append horizontally \n",
    "pic1=pic1[:480,:]"
   ]
  },
  {
   "cell_type": "code",
   "execution_count": 22,
   "id": "0cadf9ad",
   "metadata": {},
   "outputs": [
    {
     "data": {
      "text/plain": [
       "(480, 785, 3)"
      ]
     },
     "execution_count": 22,
     "metadata": {},
     "output_type": "execute_result"
    }
   ],
   "source": [
    "pic1.shape"
   ]
  },
  {
   "cell_type": "code",
   "execution_count": 23,
   "id": "03a0db1d",
   "metadata": {},
   "outputs": [],
   "source": [
    "#To combine horizontally\n",
    "combine_pic_H=numpy.hstack((pic1,pic2))"
   ]
  },
  {
   "cell_type": "code",
   "execution_count": 24,
   "id": "ab78165f",
   "metadata": {},
   "outputs": [],
   "source": [
    "#Display image\n",
    "cv2.imshow('image',combine_pic_H)\n",
    "cv2.waitKey()\n",
    "cv2.destroyAllWindows()"
   ]
  },
  {
   "cell_type": "code",
   "execution_count": 25,
   "id": "e3739830",
   "metadata": {},
   "outputs": [],
   "source": [
    "#Width should be same to append vertically\n",
    "pic1=cv2.imread('P11.jpg')\n",
    "pic1=pic1[:,:640]"
   ]
  },
  {
   "cell_type": "code",
   "execution_count": 26,
   "id": "d2568dc7",
   "metadata": {},
   "outputs": [],
   "source": [
    "#To combine vertically\n",
    "combine_pic_V=numpy.vstack((pic1,pic2))"
   ]
  },
  {
   "cell_type": "code",
   "execution_count": 27,
   "id": "5404ccd4",
   "metadata": {},
   "outputs": [],
   "source": [
    "#Display image\n",
    "cv2.imshow('image',combine_pic_V)\n",
    "cv2.waitKey()\n",
    "cv2.destroyAllWindows()"
   ]
  },
  {
   "cell_type": "code",
   "execution_count": null,
   "id": "298cb874",
   "metadata": {},
   "outputs": [],
   "source": []
  }
 ],
 "metadata": {
  "kernelspec": {
   "display_name": "Python 3",
   "language": "python",
   "name": "python3"
  },
  "language_info": {
   "codemirror_mode": {
    "name": "ipython",
    "version": 3
   },
   "file_extension": ".py",
   "mimetype": "text/x-python",
   "name": "python",
   "nbconvert_exporter": "python",
   "pygments_lexer": "ipython3",
   "version": "3.8.8"
  }
 },
 "nbformat": 4,
 "nbformat_minor": 5
}
