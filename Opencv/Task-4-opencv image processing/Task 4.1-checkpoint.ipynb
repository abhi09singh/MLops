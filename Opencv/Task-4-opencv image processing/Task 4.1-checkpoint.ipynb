{
 "cells": [
  {
   "cell_type": "code",
   "execution_count": null,
   "id": "5ff75a2c",
   "metadata": {},
   "outputs": [],
   "source": [
    "#🔅 Task 4.1\n",
    "#📌 Create image by yourself Using Python Code "
   ]
  },
  {
   "cell_type": "code",
   "execution_count": 1,
   "id": "1b4bf4de",
   "metadata": {},
   "outputs": [],
   "source": [
    "import numpy\n",
    "import cv2"
   ]
  },
  {
   "cell_type": "code",
   "execution_count": 2,
   "id": "0aac7753",
   "metadata": {},
   "outputs": [],
   "source": [
    "#Primary colour Flag : To check Color-code supported by CV2:\n",
    "pic=numpy.zeros((600,600,3))\n",
    "pic[:200,:600]=[255,0,0]\n",
    "pic[200:,:600]=[0,255,0]\n",
    "pic[400:,:600]=[0,0,255]"
   ]
  },
  {
   "cell_type": "code",
   "execution_count": 3,
   "id": "67589282",
   "metadata": {},
   "outputs": [],
   "source": [
    "#Display image created\n",
    "cv2.imshow('image created',pic)\n",
    "cv2.waitKey()\n",
    "cv2.destroyAllWindows()"
   ]
  },
  {
   "cell_type": "code",
   "execution_count": null,
   "id": "179478f1",
   "metadata": {},
   "outputs": [],
   "source": []
  }
 ],
 "metadata": {
  "kernelspec": {
   "display_name": "Python 3",
   "language": "python",
   "name": "python3"
  },
  "language_info": {
   "codemirror_mode": {
    "name": "ipython",
    "version": 3
   },
   "file_extension": ".py",
   "mimetype": "text/x-python",
   "name": "python",
   "nbconvert_exporter": "python",
   "pygments_lexer": "ipython3",
   "version": "3.8.8"
  }
 },
 "nbformat": 4,
 "nbformat_minor": 5
}
